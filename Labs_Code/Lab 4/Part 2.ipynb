{
 "cells": [
  {
   "cell_type": "code",
   "execution_count": 1,
   "metadata": {},
   "outputs": [
    {
     "name": "stderr",
     "output_type": "stream",
     "text": [
      "C:\\Program Files\\Anaconda3\\lib\\site-packages\\h5py\\__init__.py:36: FutureWarning: Conversion of the second argument of issubdtype from `float` to `np.floating` is deprecated. In future, it will be treated as `np.float64 == np.dtype(float).type`.\n",
      "  from ._conv import register_converters as _register_converters\n",
      "Using CNTK backend\n",
      "C:\\Program Files\\Anaconda3\\lib\\site-packages\\keras\\backend\\cntk_backend.py:25: UserWarning: CNTK backend warning: GPU is not detected. CNTK's CPU version is not fully optimized,please run with GPU to get better performance.\n",
      "  'CNTK backend warning: GPU is not detected. '\n"
     ]
    }
   ],
   "source": [
    "import numpy as np\n",
    "import matplotlib.pyplot as plt\n",
    "import keras as k\n",
    "import sklearn as sk\n",
    "from keras.wrappers.scikit_learn import KerasRegressor\n",
    "from sklearn.model_selection import KFold\n",
    "from sklearn.model_selection import cross_val_score\n",
    "from sklearn.model_selection import GridSearchCV\n",
    "from sklearn.model_selection import StratifiedKFold"
   ]
  },
  {
   "cell_type": "code",
   "execution_count": 2,
   "metadata": {},
   "outputs": [],
   "source": [
    "bd_train = np.reshape(np.loadtxt('../../bindigit_trn.csv', delimiter=',', dtype = 'float32'), [8000, 784])\n",
    "bd_test = np.reshape(np.loadtxt('../../bindigit_tst.csv', delimiter=',', dtype = 'float32'), [2000, 784])\n",
    "td_train = np.reshape(np.loadtxt('../../targetdigit_trn.csv', delimiter=',', dtype = 'float32'), [8000])\n",
    "td_test = np.reshape(np.loadtxt('../../targetdigit_tst.csv', delimiter=',', dtype = 'float32'), [2000])"
   ]
  },
  {
   "cell_type": "markdown",
   "metadata": {},
   "source": [
    "Building model_1_hidden_layers"
   ]
  },
  {
   "cell_type": "code",
   "execution_count": 13,
   "metadata": {},
   "outputs": [],
   "source": [
    "n_hidden_list = [300]\n",
    "reg = 0.00001\n",
    "batch_size = 256\n",
    "epochs = 50\n",
    "\n",
    "# Pretraining layer 1\n",
    "model = k.models.Sequential()\n",
    "model.add(k.layers.Dense(n_hidden_list[0], input_dim = 784, kernel_initializer='RandomNormal', activation='relu', use_bias = True,\n",
    "                             bias_initializer = 'Zeros', kernel_regularizer=k.regularizers.l2(reg)))\n",
    "model.add(k.layers.Dense(784, kernel_initializer='RandomNormal', activation='sigmoid', use_bias = True,\n",
    "                             bias_initializer = 'Zeros', kernel_regularizer=k.regularizers.l2(reg)))\n",
    "model.compile(optimizer='adam', loss='mean_squared_error')\n",
    "model.fit(bd_train, bd_train, epochs = epochs, batch_size = batch_size, verbose = 0)\n",
    "weights1 = model.get_weights()[0:2]\n",
    "\n",
    "model.pop()\n",
    "values_model = model.predict(bd_train)\n",
    "\n",
    "# Classification layer\n",
    "\n",
    "model4 = k.models.Sequential()\n",
    "model4.add(k.layers.Dense(units=1, input_dim = n_hidden_list[0], kernel_initializer='RandomNormal', activation='relu', use_bias = True,\n",
    "                             bias_initializer = 'Zeros', kernel_regularizer=k.regularizers.l2(reg)))\n",
    "model4.compile(optimizer='adam', loss='mean_squared_error')\n",
    "model4.fit(values_model, td_train, epochs = epochs, batch_size = batch_size, verbose = 0)\n",
    "\n",
    "values_model4 = model4.predict(values_model)\n",
    "\n",
    "input1 = k.Input(shape=[784])\n",
    "output1 = model(input1)\n",
    "output4 = model4(output1)\n",
    "model_1_hidden_layer = k.models.Model(input1,output4)\n",
    "model_1_hidden_layer.compile(optimizer='adam', loss='mean_squared_error')"
   ]
  },
  {
   "cell_type": "markdown",
   "metadata": {},
   "source": [
    "Building model_2_hidden_layers"
   ]
  },
  {
   "cell_type": "code",
   "execution_count": 8,
   "metadata": {},
   "outputs": [],
   "source": [
    "n_hidden_list = [300,100]\n",
    "reg = 0.00001\n",
    "batch_size = 256\n",
    "epochs = 50\n",
    "\n",
    "# Pretraining layer 1\n",
    "model = k.models.Sequential()\n",
    "model.add(k.layers.Dense(n_hidden_list[0], input_dim = 784, kernel_initializer='RandomNormal', activation='relu', use_bias = True,\n",
    "                             bias_initializer = 'Zeros', kernel_regularizer=k.regularizers.l2(reg)))\n",
    "model.add(k.layers.Dense(784, kernel_initializer='RandomNormal', activation='sigmoid', use_bias = True,\n",
    "                             bias_initializer = 'Zeros', kernel_regularizer=k.regularizers.l2(reg)))\n",
    "model.compile(optimizer='adam', loss='mean_squared_error')\n",
    "model.fit(bd_train, bd_train, epochs = epochs, batch_size = batch_size, verbose = 0)\n",
    "weights1 = model.get_weights()[0:2]\n",
    "\n",
    "model.pop()\n",
    "values_model = model.predict(bd_train)\n",
    "\n",
    "# Pretraining layer 2\n",
    "\n",
    "model2 = k.models.Sequential()\n",
    "model2.add(k.layers.Dense(n_hidden_list[1], input_dim = n_hidden_list[0], kernel_initializer='RandomNormal', activation='relu', use_bias = True,\n",
    "                             bias_initializer = 'Zeros', kernel_regularizer=k.regularizers.l2(reg)))\n",
    "model2.add(k.layers.Dense(784, kernel_initializer='RandomNormal', activation='sigmoid', use_bias = True,\n",
    "                             bias_initializer = 'Zeros', kernel_regularizer=k.regularizers.l2(reg)))\n",
    "model2.compile(optimizer='adam', loss='mean_squared_error')\n",
    "model2.fit(values_model, bd_train, epochs = epochs, batch_size = batch_size, verbose = 0)\n",
    "\n",
    "model2.pop()\n",
    "values_model2 = model2.predict(values_model)\n",
    "\n",
    "# Classification layer\n",
    "\n",
    "model4 = k.models.Sequential()\n",
    "model4.add(k.layers.Dense(units=1, input_dim = n_hidden_list[1], kernel_initializer='RandomNormal', activation='relu', use_bias = True,\n",
    "                             bias_initializer = 'Zeros', kernel_regularizer=k.regularizers.l2(reg)))\n",
    "model4.compile(optimizer='adam', loss='mean_squared_error')\n",
    "model4.fit(values_model2, td_train, epochs = epochs, batch_size = batch_size, verbose = 0)\n",
    "\n",
    "values_model4 = model4.predict(values_model2)\n",
    "\n",
    "input1 = k.Input(shape=[784])\n",
    "output1 = model(input1)\n",
    "output2 = model2(output1)\n",
    "output4 = model4(output2)\n",
    "model_2_hidden_layer = k.models.Model(input1,output4)\n",
    "model_2_hidden_layer.compile(optimizer='adam', loss='mean_squared_error')"
   ]
  },
  {
   "cell_type": "markdown",
   "metadata": {},
   "source": [
    "Building model_3_hidden_layers"
   ]
  },
  {
   "cell_type": "code",
   "execution_count": 6,
   "metadata": {},
   "outputs": [],
   "source": [
    "n_hidden_list = [300,100,70]\n",
    "reg = 0.00001\n",
    "batch_size = 256\n",
    "epochs = 50\n",
    "\n",
    "# Pretraining layer 1\n",
    "model = k.models.Sequential()\n",
    "model.add(k.layers.Dense(n_hidden_list[0], input_dim = 784, kernel_initializer='RandomNormal', activation='relu', use_bias = True,\n",
    "                             bias_initializer = 'Zeros', kernel_regularizer=k.regularizers.l2(reg)))\n",
    "model.add(k.layers.Dense(784, kernel_initializer='RandomNormal', activation='sigmoid', use_bias = True,\n",
    "                             bias_initializer = 'Zeros', kernel_regularizer=k.regularizers.l2(reg)))\n",
    "model.compile(optimizer='adam', loss='mean_squared_error')\n",
    "model.fit(bd_train, bd_train, epochs = epochs, batch_size = batch_size, verbose = 0)\n",
    "weights1 = model.get_weights()[0:2]\n",
    "\n",
    "model.pop()\n",
    "values_model = model.predict(bd_train)\n",
    "\n",
    "# Pretraining layer 2\n",
    "\n",
    "model2 = k.models.Sequential()\n",
    "model2.add(k.layers.Dense(n_hidden_list[1], input_dim = n_hidden_list[0], kernel_initializer='RandomNormal', activation='relu', use_bias = True,\n",
    "                             bias_initializer = 'Zeros', kernel_regularizer=k.regularizers.l2(reg)))\n",
    "model2.add(k.layers.Dense(784, kernel_initializer='RandomNormal', activation='sigmoid', use_bias = True,\n",
    "                             bias_initializer = 'Zeros', kernel_regularizer=k.regularizers.l2(reg)))\n",
    "model2.compile(optimizer='adam', loss='mean_squared_error')\n",
    "model2.fit(values_model, bd_train, epochs = epochs, batch_size = batch_size, verbose = 0)\n",
    "\n",
    "model2.pop()\n",
    "values_model2 = model2.predict(values_model)\n",
    "\n",
    "# Pretraining layer 3\n",
    "\n",
    "model3 = k.models.Sequential()\n",
    "model3.add(k.layers.Dense(n_hidden_list[2], input_dim = n_hidden_list[1], kernel_initializer='RandomNormal', activation='relu', use_bias = True,\n",
    "                             bias_initializer = 'Zeros', kernel_regularizer=k.regularizers.l2(reg)))\n",
    "model3.add(k.layers.Dense(784, kernel_initializer='RandomNormal', activation='sigmoid', use_bias = True,\n",
    "                             bias_initializer = 'Zeros', kernel_regularizer=k.regularizers.l2(reg)))\n",
    "model3.compile(optimizer='adam', loss='mean_squared_error')\n",
    "model3.fit(values_model2, bd_train, epochs = epochs, batch_size = batch_size, verbose = 0)\n",
    "\n",
    "model3.pop()\n",
    "values_model3 = model3.predict(values_model2)\n",
    "\n",
    "# Classification layer\n",
    "\n",
    "model4 = k.models.Sequential()\n",
    "model4.add(k.layers.Dense(units=1, input_dim = n_hidden_list[2], kernel_initializer='RandomNormal', activation='relu', use_bias = True,\n",
    "                             bias_initializer = 'Zeros', kernel_regularizer=k.regularizers.l2(reg)))\n",
    "model4.compile(optimizer='adam', loss='mean_squared_error')\n",
    "model4.fit(values_model3, td_train, epochs = epochs, batch_size = batch_size, verbose = 0)\n",
    "\n",
    "values_model4 = model4.predict(values_model3)\n",
    "\n",
    "input1 = k.Input(shape=[784])\n",
    "output1 = model(input1)\n",
    "output2 = model2(output1)\n",
    "output3 = model3(output2)\n",
    "output4 = model4(output3)\n",
    "model_3_hidden_layer = k.models.Model(input1,output4)\n",
    "model_3_hidden_layer.compile(optimizer='adam', loss='mean_squared_error')"
   ]
  },
  {
   "cell_type": "markdown",
   "metadata": {},
   "source": [
    "No hidden layer: classification layer on raw input"
   ]
  },
  {
   "cell_type": "code",
   "execution_count": 10,
   "metadata": {},
   "outputs": [],
   "source": [
    "reg = 0.00001\n",
    "batch_size = 256\n",
    "epochs = 50\n",
    "\n",
    "# Classification layer\n",
    "\n",
    "model4 = k.models.Sequential()\n",
    "model4.add(k.layers.Dense(units=1, input_dim = 784, kernel_initializer='RandomNormal', activation='relu', use_bias = True,\n",
    "                             bias_initializer = 'Zeros', kernel_regularizer=k.regularizers.l2(reg)))\n",
    "model4.compile(optimizer='adam', loss='mean_squared_error')\n",
    "model4.fit(bd_train, td_train, epochs = epochs, batch_size = batch_size, verbose = 0)\n",
    "\n",
    "model_0_hidden_layer = model4"
   ]
  },
  {
   "cell_type": "code",
   "execution_count": 17,
   "metadata": {},
   "outputs": [
    {
     "name": "stdout",
     "output_type": "stream",
     "text": [
      "0\n",
      "2000/2000 [==============================] - 0s 76us/step\n",
      "1\n",
      "2000/2000 [==============================] - 0s 116us/step\n",
      "2\n",
      "2000/2000 [==============================] - 0s 134us/step\n",
      "3\n",
      "2000/2000 [==============================] - 0s 149us/step\n"
     ]
    }
   ],
   "source": [
    "models = [model_0_hidden_layer, model_1_hidden_layer, model_2_hidden_layer, model_3_hidden_layer]\n",
    "scores = []\n",
    "for i in range(4):\n",
    "    print(i)\n",
    "    model = models[i]\n",
    "    scores.append(model.evaluate(x=bd_test, y=td_test))"
   ]
  },
  {
   "cell_type": "code",
   "execution_count": 23,
   "metadata": {},
   "outputs": [
    {
     "data": {
      "text/plain": [
       "Text(0,0.5,'Error')"
      ]
     },
     "execution_count": 23,
     "metadata": {},
     "output_type": "execute_result"
    },
    {
     "data": {
      "image/png": "[encoded data removed]",
      "text/plain": [
       "<Figure size 432x288 with 1 Axes>"
      ]
     },
     "metadata": {},
     "output_type": "display_data"
    }
   ],
   "source": [
    "fig, ax = plt.subplots()\n",
    "ax.plot(scores)\n",
    "ax.set_xlabel('Number of hidden layer')\n",
    "ax.set_ylabel('Error')"
   ]
  },
  {
   "cell_type": "markdown",
   "metadata": {},
   "source": [
    "3 hidden layers train from scratch against 3 hidden layer pre trained"
   ]
  },
  {
   "cell_type": "code",
   "execution_count": 26,
   "metadata": {},
   "outputs": [
    {
     "data": {
      "text/plain": [
       "<keras.callbacks.History at 0x1bf5738bbe0>"
      ]
     },
     "execution_count": 26,
     "metadata": {},
     "output_type": "execute_result"
    }
   ],
   "source": [
    "n_hidden_list = [300,100,70]\n",
    "reg = 0.00001\n",
    "batch_size = 256\n",
    "epochs = 50\n",
    "\n",
    "# Pretraining layer 2\n",
    "\n",
    "model_scratch = k.models.Sequential()\n",
    "model_scratch.add(k.layers.Dense(n_hidden_list[0], input_dim = 784, kernel_initializer='RandomNormal', activation='relu', use_bias = True,\n",
    "                             bias_initializer = 'Zeros', kernel_regularizer=k.regularizers.l2(reg)))\n",
    "model_scratch.add(k.layers.Dense(n_hidden_list[1], input_dim = n_hidden_list[0], kernel_initializer='RandomNormal', activation='relu', use_bias = True,\n",
    "                             bias_initializer = 'Zeros', kernel_regularizer=k.regularizers.l2(reg)))\n",
    "model_scratch.add(k.layers.Dense(n_hidden_list[2], input_dim = n_hidden_list[1], kernel_initializer='RandomNormal', activation='relu', use_bias = True,\n",
    "                             bias_initializer = 'Zeros', kernel_regularizer=k.regularizers.l2(reg)))\n",
    "model_scratch.add(k.layers.Dense(units=1, input_dim = n_hidden_list[2], kernel_initializer='RandomNormal', activation='relu', use_bias = True,\n",
    "                             bias_initializer = 'Zeros', kernel_regularizer=k.regularizers.l2(reg)))\n",
    "model_scratch.compile(optimizer='adam', loss='mean_squared_error')\n",
    "model_scratch.fit(bd_train, td_train, epochs = epochs, batch_size = batch_size, verbose = 0)"
   ]
  },
  {
   "cell_type": "code",
   "execution_count": 27,
   "metadata": {},
   "outputs": [
    {
     "name": "stdout",
     "output_type": "stream",
     "text": [
      "2000/2000 [==============================] - 0s 193us/step\n",
      "1.1590989785194397\n"
     ]
    }
   ],
   "source": [
    "score_scratch = model_scratchcratch.evaluate(bd_test, td_test)\n",
    "print(score_scratch)"
   ]
  }
 ],
 "metadata": {
  "kernelspec": {
   "display_name": "Python 3",
   "language": "python",
   "name": "python3"
  },
  "language_info": {
   "codemirror_mode": {
    "name": "ipython",
    "version": 3
   },
   "file_extension": ".py",
   "mimetype": "text/x-python",
   "name": "python",
   "nbconvert_exporter": "python",
   "pygments_lexer": "ipython3",
   "version": "3.6.5"
  }
 },
 "nbformat": 4,
 "nbformat_minor": 2
}
