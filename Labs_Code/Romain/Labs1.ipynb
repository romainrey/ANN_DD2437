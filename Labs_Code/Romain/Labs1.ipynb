{
 "cells": [
  {
   "cell_type": "markdown",
   "metadata": {},
   "source": [
    "# ANNDA - Lab 1"
   ]
  },
  {
   "cell_type": "code",
   "execution_count": 1,
   "metadata": {},
   "outputs": [],
   "source": [
    "# Imports\n",
    "import numpy as np"
   ]
  },
  {
   "cell_type": "markdown",
   "metadata": {},
   "source": [
    "## 2.2 Implementation of the Delta rule"
   ]
  },
  {
   "cell_type": "markdown",
   "metadata": {},
   "source": [
    "Setting up the variables"
   ]
  },
  {
   "cell_type": "code",
   "execution_count": 163,
   "metadata": {},
   "outputs": [],
   "source": [
    "# Initializing patterns and targets (example of 'sign of x' problem)\n",
    "patterns = np.array([[-1,1,-1,1],[-1,-1,1,1]])\n",
    "targets = np.array([-1,1,-1,1])\n",
    "\n",
    "# Adding biais\n",
    "def with_biais(mat):\n",
    "    biais = np.ones(shape = (1,mat.shape[1]))\n",
    "    mat_biais = np.concatenate((mat,biais), axis = 0)\n",
    "    return(mat_biais)\n",
    "pattern_biais = with_biais(patterns)\n",
    "\n",
    "# Initilaizing the weights\n",
    "def initialize_weights(n_row, n_col):\n",
    "    return(np.random.normal(size = (n_row,n_col)))\n",
    "\n",
    "weights = initialize_weights(1,3)"
   ]
  },
  {
   "cell_type": "markdown",
   "metadata": {},
   "source": [
    "Defining Delta rule"
   ]
  },
  {
   "cell_type": "code",
   "execution_count": 146,
   "metadata": {},
   "outputs": [],
   "source": [
    "def delta_rule(patterns, targets, weights, learning_rate):\n",
    "    delta_weights = - learning_rate * ((weights @ patterns) - targets) @ np.transpose(patterns)\n",
    "    return(delta_weights)\n",
    "\n",
    "def delta_rule_epochs(epochs, patterns, targets, weights, learning_rate = 0.001):\n",
    "    new_weights = np.array(weights)\n",
    "    for i in range(epochs):\n",
    "        delta_weights = delta_rule(patterns, targets, new_weights, learning_rate)\n",
    "        new_weights += delta_weights\n",
    "    return(new_weights)"
   ]
  },
  {
   "cell_type": "markdown",
   "metadata": {},
   "source": [
    "Test with some examples:"
   ]
  },
  {
   "cell_type": "code",
   "execution_count": 151,
   "metadata": {},
   "outputs": [
    {
     "name": "stdout",
     "output_type": "stream",
     "text": [
      "We want to get targets:  [-1  1 -1  1]\n",
      "\n",
      "Initial random weights:  [[-0.84293901 -0.07461344 -0.17373144]]\n",
      "Results with intial random weights:  [[ 0.74382101 -0.942057    0.59459413 -1.09128389]]\n",
      "\n",
      "... Calculation of new weights for epochs = 20 and learning_rate = 0.001 ...\n",
      "New weights:  [[-0.70097422 -0.06886584 -0.1603486 ]]\n",
      "Result with new weights:  [[ 0.60949145 -0.79245698  0.47175978 -0.93018866]]\n",
      "\n",
      "... Calculation of new weights for epochs = 20 and learning_rate = 0.01 ...\n",
      "New weights:  [[ 0.18541647 -0.03297932 -0.07678972]]\n",
      "Result with new weights:  [[-0.22922687  0.14160608 -0.29518551  0.07564743]]\n"
     ]
    }
   ],
   "source": [
    "print('We want to get targets: ', targets)\n",
    "print('\\nInitial random weights: ', weights)\n",
    "print('Results with intial random weights: ', weights @ patterns_biais)\n",
    "\n",
    "print('\\n... Calculation of new weights for epochs = 20 and learning_rate = 0.001 ...')\n",
    "new_weights_0001 = delta_rule_epochs(20, patterns_biais, targets, weights, learning_rate = 0.001)\n",
    "print('New weights: ', new_weights_0001)\n",
    "print('Result with new weights: ', new_weights_0001 @ patterns_biais)\n",
    "\n",
    "print('\\n... Calculation of new weights for epochs = 20 and learning_rate = 0.01 ...')\n",
    "new_weights_001 = delta_rule_epochs(20, patterns_biais, targets, weights, learning_rate = 0.01)\n",
    "print('New weights: ', new_weights_001)\n",
    "print('Result with new weights: ', new_weights_001 @ patterns_biais)"
   ]
  },
  {
   "cell_type": "markdown",
   "metadata": {},
   "source": [
    "## 2.3 Implementation of a two-layer perceptron"
   ]
  },
  {
   "cell_type": "code",
   "execution_count": 154,
   "metadata": {},
   "outputs": [],
   "source": [
    "def phi(x):\n",
    "    return((np.divide(2,(1+np.exp(-x)))-1))"
   ]
  },
  {
   "cell_type": "markdown",
   "metadata": {},
   "source": [
    "### 2.3.1 The forward  pass"
   ]
  },
  {
   "cell_type": "raw",
   "metadata": {},
   "source": [
    "# forward_pass (patterns, w, v)\n",
    "\n",
    "h_in = w @ with_biais(patterns)\n",
    "h_out = with_biais(phi(h_in))\n",
    "\n",
    "o_in = v @ h_out\n",
    "o_out = phi(o_in)"
   ]
  },
  {
   "cell_type": "markdown",
   "metadata": {},
   "source": [
    "### 2.3.2 The backward pass"
   ]
  },
  {
   "cell_type": "raw",
   "metadata": {},
   "source": [
    "# backward_pass\n",
    "\n",
    "delta_o = (out-targets) * (1+out) * (1-out) * 0.5\n",
    "delta_h = (np.transpose(v) @ delta_o) * ((1 + h_out) * (1 - h_out)) * 0.5\n",
    "delta_h = delta_h[range(n_hidden),:]"
   ]
  },
  {
   "cell_type": "markdown",
   "metadata": {},
   "source": [
    "### 2.3.3 Weights update"
   ]
  },
  {
   "cell_type": "raw",
   "metadata": {},
   "source": [
    "dw = (dw * alpha) - (delta_h @ np.transpose(patterns)) * (1-alpha)\n",
    "dv = (dv * alpha) - (delta_o @ np.transpose(h_out)) * (1-alpha)\n",
    "W = w + dw * eta\n",
    "V = v + dv * eta"
   ]
  },
  {
   "cell_type": "markdown",
   "metadata": {},
   "source": [
    "All together:"
   ]
  },
  {
   "cell_type": "code",
   "execution_count": 202,
   "metadata": {},
   "outputs": [],
   "source": [
    "def fwd_bwd_wup(patterns, targets, weights, weights_hidden, eta, n_hidden, epochs, alpha):\n",
    "    w = np.array(weights)\n",
    "    v = np.array(weights_hidden)\n",
    "    dw, dv = 0, 0\n",
    "    patterns_biais = with_biais(patterns)\n",
    "    for i in range(epochs):\n",
    "        # forward pass\n",
    "        h_in = w @ patterns_biais\n",
    "        h_out = with_biais(phi(h_in))\n",
    "        o_in = v @ h_out\n",
    "        o_out = phi(o_in)\n",
    "\n",
    "        # backward pass\n",
    "        delta_o = (o_out-targets) * (1+o_out) * (1-o_out) * 0.5\n",
    "        delta_h = (np.transpose(v) @ delta_o) * ((1 + h_out) * (1 - h_out)) * 0.5\n",
    "        delta_h = delta_h[range(n_hidden),:]\n",
    "\n",
    "        # weights update\n",
    "        dw = (dw * alpha) - (delta_h @ np.transpose(patterns_biais)) * (1-alpha)\n",
    "        dv = (dv * alpha) - (delta_o @ np.transpose(h_out)) * (1-alpha)\n",
    "        w += dw * eta\n",
    "        v += dv * eta\n",
    "        \n",
    "    return(w,v)"
   ]
  },
  {
   "cell_type": "markdown",
   "metadata": {},
   "source": [
    "Test with XOR example, n_hidden = "
   ]
  },
  {
   "cell_type": "code",
   "execution_count": 214,
   "metadata": {},
   "outputs": [
    {
     "name": "stdout",
     "output_type": "stream",
     "text": [
      "First o_out: \n",
      "\n",
      "[[ 0.30670142 -0.03909668  0.83908401  0.74174765]]\n"
     ]
    }
   ],
   "source": [
    "patterns = np.array([[-1,1,-1,1],[-1,-1,1,1]])\n",
    "targets = np.array([-1,1,1,-1])\n",
    "n_hidden = 5\n",
    "\n",
    "w = initialize_weights(n_row = n_hidden, n_col = 3)\n",
    "v = initialize_weights(n_row = 1, n_col = n_hidden + 1)\n",
    "\n",
    "h_in = w @ with_biais(patterns)\n",
    "h_out = with_biais(phi(h_in))\n",
    "o_in = v @ h_out\n",
    "o_out = phi(o_in)\n",
    "print('First o_out: \\n')\n",
    "print(o_out)"
   ]
  },
  {
   "cell_type": "code",
   "execution_count": 215,
   "metadata": {},
   "outputs": [],
   "source": [
    "new_w, new_v = fwd_bwd_wup(patterns = patterns, targets = targets, weights = w, weights_hidden = v,\n",
    "            eta = 0.01, n_hidden = n_hidden, epochs = 1000, alpha = 0.9)"
   ]
  },
  {
   "cell_type": "code",
   "execution_count": 216,
   "metadata": {},
   "outputs": [
    {
     "name": "stdout",
     "output_type": "stream",
     "text": [
      "After computation o_out: \n",
      "\n",
      "[[-0.72697082  0.69688008  0.69851929 -0.73707844]]\n"
     ]
    }
   ],
   "source": [
    "h_in = new_w @ with_biais(patterns)\n",
    "h_out = with_biais(phi(h_in))\n",
    "o_in = new_v @ h_out\n",
    "o_out = phi(o_in)\n",
    "print('After computation o_out: \\n')\n",
    "print(o_out)"
   ]
  }
 ],
 "metadata": {
  "kernelspec": {
   "display_name": "Python 3",
   "language": "python",
   "name": "python3"
  },
  "language_info": {
   "codemirror_mode": {
    "name": "ipython",
    "version": 3
   },
   "file_extension": ".py",
   "mimetype": "text/x-python",
   "name": "python",
   "nbconvert_exporter": "python",
   "pygments_lexer": "ipython3",
   "version": "3.6.5"
  }
 },
 "nbformat": 4,
 "nbformat_minor": 2
}
