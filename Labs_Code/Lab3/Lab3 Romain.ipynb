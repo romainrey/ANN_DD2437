{
 "cells": [
  {
   "cell_type": "markdown",
   "metadata": {},
   "source": [
    "# 3. Tasks and Questions"
   ]
  },
  {
   "cell_type": "markdown",
   "metadata": {},
   "source": [
    "## 3.1 Convergence and attractors"
   ]
  },
  {
   "cell_type": "code",
   "execution_count": 274,
   "metadata": {},
   "outputs": [],
   "source": [
    "import numpy as np\n",
    "import matplotlib.pyplot as plt\n",
    "import matplotlib as mpl"
   ]
  },
  {
   "cell_type": "code",
   "execution_count": 275,
   "metadata": {},
   "outputs": [],
   "source": [
    "x1 = np.array([[-1, -1, 1, -1, 1, -1, -1, 1]])\n",
    "x2 = np.array([[-1, -1, -1, -1, -1, 1, -1, -1]])\n",
    "x3 = np.array([[-1, 1, 1, -1, -1, 1, -1, 1]])"
   ]
  },
  {
   "cell_type": "code",
   "execution_count": 302,
   "metadata": {},
   "outputs": [],
   "source": [
    "def create_w(patterns_list, size):\n",
    "    # Generate a matrix of weights with the patterns\n",
    "    w = np.zeros([size,size])\n",
    "    for pattern in patterns_list:\n",
    "        w += pattern.T @ pattern\n",
    "    return(w)\n",
    "\n",
    "def update_vect(w, x):\n",
    "    # compile the result of sign( sum ( wij * xj))\n",
    "    y = np.sign(x @ w)\n",
    "    return(y)\n",
    "\n",
    "def update_vect_sequential(w, x):\n",
    "    # compile the result of sign( sum ( wij * xj)) but one component after the other\n",
    "    x_new = [i for i in x] # deep copy\n",
    "    n = w.shape[0]\n",
    "    for i in range(n):\n",
    "        xi = 0\n",
    "        for j in range(n):\n",
    "            xi += w[i,j]*x_new[j]\n",
    "        x_new[i] = np.sign(xi)\n",
    "    return(x_new)\n",
    "\n",
    "# Give the stable vector after iterating through the network\n",
    "def convergence_with_step(w,x):\n",
    "    vect = np.array([i for i in x]) # deep copy\n",
    "    diff = 1\n",
    "    i = 0\n",
    "    while diff != 0:\n",
    "        i += 1\n",
    "        old_vect = np.array([i for i in vect])\n",
    "        vect = update_vect(w, vect)\n",
    "        diff = np.sum(abs(vect-old_vect))\n",
    "    return(vect, i)\n",
    "\n",
    "def convergence(w,x):\n",
    "    vect = np.array([i for i in x]) # deep copy\n",
    "    diff = 1\n",
    "    while diff != 0:\n",
    "        old_vect = np.array([i for i in vect])\n",
    "        vect = update_vect(w, vect)\n",
    "        diff = np.sum(abs(vect-old_vect))\n",
    "    return(vect)\n",
    "\n",
    "# Give the stable vector after iterating through the network for sequential update\n",
    "def convergence_with_step_sequencial(w,x):\n",
    "    vect = np.array([i for i in x]) # deep copy\n",
    "    diff = 1\n",
    "    i = 0\n",
    "    while diff != 0:\n",
    "        i += 1\n",
    "        old_vect = np.array([i for i in vect])\n",
    "        vect = update_vect_sequential(w, vect)\n",
    "        diff = np.sum(abs(vect-old_vect))\n",
    "    return(vect, i)"
   ]
  },
  {
   "cell_type": "code",
   "execution_count": 277,
   "metadata": {},
   "outputs": [],
   "source": [
    "w = create_w([x1, x2, x3], 8)"
   ]
  },
  {
   "cell_type": "code",
   "execution_count": 278,
   "metadata": {},
   "outputs": [
    {
     "name": "stdout",
     "output_type": "stream",
     "text": [
      "Recall on x1, difference between compilation result and x1\n",
      "[[0. 0. 0. 0. 0. 0. 0. 0.]]\n",
      "Recall on x2, difference between compilation result and x2\n",
      "[[0. 0. 0. 0. 0. 0. 0. 0.]]\n",
      "Recall on x2, difference between compilation result and x3\n",
      "[[0. 0. 0. 0. 0. 0. 0. 0.]]\n"
     ]
    }
   ],
   "source": [
    "# test recall\n",
    "print('Recall on x1, difference between compilation result and x1')\n",
    "print(update_vect(w, x1)-x1)\n",
    "print('Recall on x2, difference between compilation result and x2')\n",
    "print(update_vect(w, x2)-x2)\n",
    "print('Recall on x2, difference between compilation result and x3')\n",
    "print(update_vect(w, x3)-x3)"
   ]
  },
  {
   "cell_type": "code",
   "execution_count": 279,
   "metadata": {},
   "outputs": [],
   "source": [
    "x1d = np.array([[1, -1, 1, -1, 1, -1, -1, 1]])\n",
    "x2d = np.array([[1, 1, -1, -1, -1, 1, -1, -1]])\n",
    "x3d = np.array([[1, 1, 1, -1, 1, 1, -1, 1]])"
   ]
  },
  {
   "cell_type": "code",
   "execution_count": 280,
   "metadata": {},
   "outputs": [
    {
     "name": "stdout",
     "output_type": "stream",
     "text": [
      "Fixed point for x1d reached in 1 steps\n",
      "difference between convergence vect and x1 [[0. 0. 0. 0. 0. 0. 0. 0.]]\n",
      "Fixed point for x2d reached in 1 steps\n",
      "difference between convergence vect and x2 [[0. 0. 0. 0. 0. 0. 0. 0.]]\n",
      "Fixed point for x3d reached in 1 steps\n",
      "difference between convergence vect and x3 [[0. 0. 0. 0. 0. 0. 0. 0.]]\n"
     ]
    }
   ],
   "source": [
    "# Applying update rule until convergence:\n",
    "\n",
    "# x1d\n",
    "vect, i = convergence_with_step(w, x1)\n",
    "print(\"Fixed point for x1d reached in\", i, \"steps\")\n",
    "print('difference between convergence vect and x1',vect-x1)\n",
    "\n",
    "# x2d\n",
    "vect, i = convergence_with_step(w, x2)\n",
    "print(\"Fixed point for x2d reached in\", i, \"steps\")\n",
    "print('difference between convergence vect and x2',vect-x2)\n",
    "\n",
    "# x3d\n",
    "vect, i = convergence_with_step(w, x3)\n",
    "print(\"Fixed point for x3d reached in\", i, \"steps\")\n",
    "print('difference between convergence vect and x3',vect-x3)"
   ]
  },
  {
   "cell_type": "code",
   "execution_count": 281,
   "metadata": {},
   "outputs": [
    {
     "name": "stdout",
     "output_type": "stream",
     "text": [
      "[[-1. -1.  1. -1.  1. -1. -1.  1.]\n",
      " [-1. -1. -1. -1. -1.  1. -1. -1.]\n",
      " [-1. -1.  1. -1. -1.  1. -1.  1.]\n",
      " [-1. -1.  0. -1. -1.  1. -1.  0.]\n",
      " [-1. -1. -1. -1.  1. -1. -1. -1.]\n",
      " [ 1. -1. -1.  1.  1. -1.  1. -1.]\n",
      " [ 0.  0. -1.  0. -1.  1.  0. -1.]\n",
      " [-1. -1.  1. -1.  0.  0. -1.  1.]]\n"
     ]
    }
   ],
   "source": [
    "# Finding the attractors: We will test for each vector possible what is its state of convergence\n",
    "# Generating all combination:\n",
    "combinations = np.array([i for i in product([-1, 1], repeat = 8)])\n",
    "convergence_vectors = x1\n",
    "for comb in range(len(combinations)):\n",
    "    vect = convergence(w, combinations[comb])\n",
    "    vect_in_conv = np.any(np.sum(vect == np.array(convergence_vectors), axis = 1)==8)\n",
    "    minus_vect_in_conv = np.any(np.sum(-vect == np.array(convergence_vectors), axis = 1)==8)\n",
    "    if(vect_in_conv ==  False and minus_vect_in_conv == False):\n",
    "        convergence_vectors = np.concatenate([convergence_vectors, np.array([vect])])\n",
    "print(convergence_vectors)"
   ]
  },
  {
   "cell_type": "markdown",
   "metadata": {},
   "source": [
    "We have 8 vectors, which is normal because the dimension is 8"
   ]
  },
  {
   "cell_type": "markdown",
   "metadata": {},
   "source": [
    "As we have seen by testing all the combinations possible, it always converge, whatever the distance we are from the patterns"
   ]
  },
  {
   "cell_type": "markdown",
   "metadata": {},
   "source": [
    "## 3.2 Sequential update"
   ]
  },
  {
   "cell_type": "code",
   "execution_count": 282,
   "metadata": {},
   "outputs": [],
   "source": [
    "pict = np.reshape(np.loadtxt('../../pict.dat', delimiter=','), newshape=[11,1024])"
   ]
  },
  {
   "cell_type": "code",
   "execution_count": 283,
   "metadata": {},
   "outputs": [],
   "source": [
    "def plot_pict(v, ax):\n",
    "    cmap = mpl.colors.ListedColormap(['w', 'k'])\n",
    "    ax.imshow(np.reshape(v, [32,32]), cmap)"
   ]
  },
  {
   "cell_type": "code",
   "execution_count": 284,
   "metadata": {
    "scrolled": true
   },
   "outputs": [
    {
     "data": {
      "image/png": "[encoded data removed]",
      "text/plain": [
       "<Figure size 1440x432 with 11 Axes>"
      ]
     },
     "metadata": {},
     "output_type": "display_data"
    }
   ],
   "source": [
    "# Plotting the vectors\n",
    "fig, ax = plt.subplots(1,11, figsize = [20,6])\n",
    "for i in range(11):\n",
    "    plot_pict(pict[i,:], ax[i])"
   ]
  },
  {
   "cell_type": "code",
   "execution_count": 285,
   "metadata": {},
   "outputs": [
    {
     "name": "stdout",
     "output_type": "stream",
     "text": [
      "shape w: (1024, 1024)\n",
      "Sum abs(recall(p1)-p1) = 0.0\n",
      "Sum abs(recall(p1)-p1) = 0.0\n",
      "Sum abs(recall(p1)-p1) = 0.0\n"
     ]
    }
   ],
   "source": [
    "# Checking stability of the three patterns\n",
    "i_max = 3\n",
    "w = create_w([np.array([pict[i,:]]) for i in range(i_max)], 1024)\n",
    "print(\"shape w:\", w.shape)\n",
    "for i in range(i_max):\n",
    "    print(\"Sum abs(recall(p1)-p1) =\", np.sum(abs(update_vect(w, pict[0,:])-pict[0,:])))"
   ]
  },
  {
   "cell_type": "code",
   "execution_count": 286,
   "metadata": {},
   "outputs": [
    {
     "name": "stdout",
     "output_type": "stream",
     "text": [
      "Convergence of p10 into p1: True \n",
      "\n",
      "Convergence of p11 into p2: False\n",
      "Convergence of p11 into p3: False\n"
     ]
    }
   ],
   "source": [
    "# Test on p10 and p11\n",
    "vect = convergence(w, pict[9,:])\n",
    "print(\"Convergence of p10 into p1:\",np.sum(vect == pict[0,:])==1024, '\\n')\n",
    "\n",
    "vect = convergence(w, pict[10,:])\n",
    "print(\"Convergence of p11 into p2:\",np.sum(vect == pict[1,:])==1024)\n",
    "print(\"Convergence of p11 into p3:\",np.sum(vect == pict[2,:])==1024)"
   ]
  },
  {
   "cell_type": "code",
   "execution_count": 298,
   "metadata": {},
   "outputs": [],
   "source": [
    "# On random vect\n",
    "random_vect = 2*np.random.randint(2, size=1024)-1"
   ]
  },
  {
   "cell_type": "code",
   "execution_count": 316,
   "metadata": {},
   "outputs": [],
   "source": [
    "# compile the result of sign( sum ( wij * xj)) but one component after the other\n",
    "# matrix with results\n",
    "m = np.array([])\n",
    "# number of iterations\n",
    "k, old_k = 0, 0\n",
    "# step of tracks\n",
    "k_step = 100\n",
    "\n",
    "x_new = [i for i in random_vect] # deep copy\n",
    "n = w.shape[0]\n",
    "diff = 1\n",
    "while diff != 0:\n",
    "    old_x = np.array([i for i in x_new])\n",
    "    for i in range(n):\n",
    "        xi = 0\n",
    "        for j in range(n):\n",
    "            xi += w[i,j]*x_new[j]\n",
    "        x_new[i] = np.sign(xi)\n",
    "        \n",
    "        k += 1\n",
    "        if(k % 100 != old_k % 100):\n",
    "            m = np.concatenate([m,x_new])\n",
    "            old_k = k\n",
    "    diff = np.sum(abs(old_x-x_new))\n",
    "m = m.reshape([3072,1024])"
   ]
  },
  {
   "cell_type": "code",
   "execution_count": 327,
   "metadata": {},
   "outputs": [
    {
     "data": {
      "image/png": "[encoded data removed]",
      "text/plain": [
       "<Figure size 2160x1440 with 9 Axes>"
      ]
     },
     "metadata": {},
     "output_type": "display_data"
    }
   ],
   "source": [
    "n = m.shape[0]\n",
    "inc = int(n/9)\n",
    "fig, ax = plt.subplots(3,3, figsize = [30,20])\n",
    "for i in range(3):\n",
    "    for j in range(3):\n",
    "        plot_pict(ax=ax[i,j], v=m[i*3*inc + j*inc])"
   ]
  }
 ],
 "metadata": {
  "kernelspec": {
   "display_name": "Python 3",
   "language": "python",
   "name": "python3"
  },
  "language_info": {
   "codemirror_mode": {
    "name": "ipython",
    "version": 3
   },
   "file_extension": ".py",
   "mimetype": "text/x-python",
   "name": "python",
   "nbconvert_exporter": "python",
   "pygments_lexer": "ipython3",
   "version": "3.6.5"
  }
 },
 "nbformat": 4,
 "nbformat_minor": 2
}
