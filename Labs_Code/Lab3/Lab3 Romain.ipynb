{
 "cells": [
  {
   "cell_type": "markdown",
   "metadata": {},
   "source": [
    "# 3. Tasks and Questions"
   ]
  },
  {
   "cell_type": "markdown",
   "metadata": {},
   "source": [
    "## 3.1 Convergence and attractors"
   ]
  },
  {
   "cell_type": "code",
   "execution_count": 1,
   "metadata": {},
   "outputs": [],
   "source": [
    "import numpy as np\n",
    "import matplotlib.pyplot as plt"
   ]
  },
  {
   "cell_type": "code",
   "execution_count": 19,
   "metadata": {},
   "outputs": [],
   "source": [
    "x1 = np.array([[-1, -1, 1, -1, 1, -1, -1, 1]])\n",
    "x2 = np.array([[-1, -1, -1, -1, -1, 1, -1, -1]])\n",
    "x3 = np.array([[-1, 1, 1, -1, -1, 1, -1, 1]])"
   ]
  },
  {
   "cell_type": "code",
   "execution_count": 32,
   "metadata": {},
   "outputs": [],
   "source": [
    "def create_w(patterns_list):\n",
    "    # Generate a matrix of weights with the patterns\n",
    "    size = patterns_list[0].size\n",
    "    w = np.zeros([size,size])\n",
    "    for pattern in patterns_list:\n",
    "        w += pattern.T @ pattern\n",
    "    return(w)\n",
    "\n",
    "def update_w(patterns_list, w):\n",
    "    # update an existing weight matrix\n",
    "    for pattern in patterns_list:\n",
    "        w += pattern.T @ pattern\n",
    "    return(w)\n",
    "\n",
    "def compile(w, x):\n",
    "    # compile the result of sign( sum ( wij * xj))\n",
    "    y = np.sign(x @ w)\n",
    "    return(y)"
   ]
  },
  {
   "cell_type": "code",
   "execution_count": 27,
   "metadata": {},
   "outputs": [],
   "source": [
    "w = create_w([x1, x2, x3])"
   ]
  },
  {
   "cell_type": "code",
   "execution_count": 38,
   "metadata": {},
   "outputs": [
    {
     "name": "stdout",
     "output_type": "stream",
     "text": [
      "Recall on x1, difference between compilation result and x1\n",
      "[[0. 0. 0. 0. 0. 0. 0. 0.]]\n",
      "Recall on x2, difference between compilation result and x2\n",
      "[[0. 0. 0. 0. 0. 0. 0. 0.]]\n",
      "Recall on x2, difference between compilation result and x3\n",
      "[[0. 0. 0. 0. 0. 0. 0. 0.]]\n"
     ]
    }
   ],
   "source": [
    "# test recall\n",
    "print('Recall on x1, difference between compilation result and x1')\n",
    "print(compile(w, x1)-x1)\n",
    "print('Recall on x2, difference between compilation result and x2')\n",
    "print(compile(w, x2)-x2)\n",
    "print('Recall on x2, difference between compilation result and x3')\n",
    "print(compile(w, x3)-x3)"
   ]
  },
  {
   "cell_type": "code",
   "execution_count": 39,
   "metadata": {},
   "outputs": [],
   "source": [
    "x1d = np.array([[1, -1, 1, -1, 1, -1, -1, 1]])\n",
    "x2d = np.array([[1, 1, -1, -1, -1, 1, -1, -1]])\n",
    "x3d = np.array([[1, 1, 1, -1, 1, 1, -1, 1]])"
   ]
  },
  {
   "cell_type": "code",
   "execution_count": 49,
   "metadata": {},
   "outputs": [
    {
     "name": "stdout",
     "output_type": "stream",
     "text": [
      "Fixed point for x1d reached in 2 steps\n",
      "difference between convergence vect and x1 [[0. 0. 0. 0. 0. 0. 0. 0.]]\n",
      "Fixed point for x2d reached in 4 steps\n",
      "difference between convergence vect and x2 [[0. 0. 0. 0. 0. 0. 0. 0.]]\n",
      "Fixed point for x3d reached in 3 steps\n",
      "difference between convergence vect and x3 [[0. 0. 0. 0. 0. 0. 0. 0.]]\n"
     ]
    }
   ],
   "source": [
    "# Applying update rule until convergence:\n",
    "\n",
    "# x1d\n",
    "vect = np.array([i for i in x1d]) # deep copy\n",
    "diff = 1\n",
    "i = 0\n",
    "while diff != 0:\n",
    "    i += 1\n",
    "    old_vect = np.array([i for i in vect])\n",
    "    vect = compile(w, vect)\n",
    "    diff = np.sum(abs(vect-old_vect))\n",
    "print(\"Fixed point for x1d reached in\", i, \"steps\")\n",
    "print('difference between convergence vect and x1',vect-x1)\n",
    "\n",
    "# x2d\n",
    "vect = np.array([i for i in x2d]) # deep copy\n",
    "diff = 1\n",
    "i = 0\n",
    "while diff != 0:\n",
    "    i += 1\n",
    "    old_vect = np.array([i for i in vect])\n",
    "    vect = compile(w, vect)\n",
    "    diff = np.sum(abs(vect-old_vect))\n",
    "print(\"Fixed point for x2d reached in\", i, \"steps\")\n",
    "print('difference between convergence vect and x2',vect-x2)\n",
    "\n",
    "# x3d\n",
    "vect = np.array([i for i in x3d]) # deep copy\n",
    "diff = 1\n",
    "i = 0\n",
    "while diff != 0:\n",
    "    i += 1\n",
    "    old_vect = np.array([i for i in vect])\n",
    "    vect = compile(w, vect)\n",
    "    diff = np.sum(abs(vect-old_vect))\n",
    "print(\"Fixed point for x3d reached in\", i, \"steps\")\n",
    "print('difference between convergence vect and x3',vect-x3)"
   ]
  },
  {
   "cell_type": "code",
   "execution_count": 110,
   "metadata": {},
   "outputs": [
    {
     "name": "stdout",
     "output_type": "stream",
     "text": [
      "[[-1. -1.  1. -1.  1. -1. -1.  1.]\n",
      " [-1. -1. -1. -1. -1.  1. -1. -1.]\n",
      " [-1. -1.  1. -1. -1.  1. -1.  1.]\n",
      " [-1. -1.  0. -1. -1.  1. -1.  0.]\n",
      " [-1. -1. -1. -1.  1. -1. -1. -1.]\n",
      " [ 1. -1. -1.  1.  1. -1.  1. -1.]\n",
      " [ 0.  0. -1.  0. -1.  1.  0. -1.]\n",
      " [-1. -1.  1. -1.  0.  0. -1.  1.]]\n"
     ]
    }
   ],
   "source": [
    "# Finding the attractors: We will test for each vector possible what is its state of convergence\n",
    "# Generating all combination:\n",
    "combinations = np.array([i for i in product([-1, 1], repeat = 8)])\n",
    "convergence_vectors = x1\n",
    "for comb in range(len(combinations)):\n",
    "    vect = np.array([i for i in combinations[comb]]) # deep copy\n",
    "    diff = 1\n",
    "    while diff != 0:\n",
    "        old_vect = np.array([i for i in vect])\n",
    "        vect = compile(w, vect)\n",
    "        diff = np.sum(abs(vect-old_vect))\n",
    "        # We need to test if vect is in conv but also if -vect is in conv\n",
    "    vect_in_conv = np.any(np.sum(vect == np.array(convergence_vectors), axis = 1)==8)\n",
    "    minus_vect_in_conv = np.any(np.sum(-vect == np.array(convergence_vectors), axis = 1)==8)\n",
    "    if(vect_in_conv ==  False and minus_vect_in_conv == False):\n",
    "        convergence_vectors = np.concatenate([convergence_vectors, np.array([vect])])\n",
    "print(convergence_vectors)"
   ]
  },
  {
   "cell_type": "markdown",
   "metadata": {},
   "source": [
    "We have 8 vectors, which is normal because the dimension is 8"
   ]
  },
  {
   "cell_type": "markdown",
   "metadata": {},
   "source": [
    "As we have seen by testing all the combinations possible, it always converge, whatever the distance we are from the patterns"
   ]
  },
  {
   "cell_type": "code",
   "execution_count": null,
   "metadata": {},
   "outputs": [],
   "source": []
  }
 ],
 "metadata": {
  "kernelspec": {
   "display_name": "Python 3",
   "language": "python",
   "name": "python3"
  },
  "language_info": {
   "codemirror_mode": {
    "name": "ipython",
    "version": 3
   },
   "file_extension": ".py",
   "mimetype": "text/x-python",
   "name": "python",
   "nbconvert_exporter": "python",
   "pygments_lexer": "ipython3",
   "version": "3.6.5"
  }
 },
 "nbformat": 4,
 "nbformat_minor": 2
}
